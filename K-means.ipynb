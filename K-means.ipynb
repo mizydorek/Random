{
 "cells": [
  {
   "cell_type": "markdown",
   "metadata": {},
   "source": [
    "#### K-means examples\n",
    "***"
   ]
  },
  {
   "cell_type": "code",
   "execution_count": 1,
   "metadata": {},
   "outputs": [],
   "source": [
    "# Numerical arrays.\n",
    "import numpy as np\n",
    "\n",
    "# Machine learning - KMeans.\n",
    "import sklearn.cluster as skcl\n",
    "\n",
    "# Plotting.\n",
    "import matplotlib.pyplot as plt"
   ]
  },
  {
   "cell_type": "markdown",
   "metadata": {},
   "source": [
    "#### From the sklearn documentation\n",
    "https://scikit-learn.org/stable/modules/generated/sklearn.cluster.KMeans.html#sklearn.cluster.KMeans\n",
    "***"
   ]
  },
  {
   "cell_type": "code",
   "execution_count": 2,
   "metadata": {},
   "outputs": [
    {
     "data": {
      "text/plain": [
       "array([[-0.86738605,  2.64460725],\n",
       "       [ 3.96159752,  1.66778219],\n",
       "       [ 7.42176552, 14.6831114 ],\n",
       "       [ 6.62613173, 12.25711216],\n",
       "       [ 5.35492367, 12.07529605],\n",
       "       [ 6.94654522, 14.91639571],\n",
       "       [ 5.71345472,  0.48670678],\n",
       "       [ 2.71807617, 13.73520637],\n",
       "       [ 3.8555229 , 10.37962707],\n",
       "       [ 5.86662343, 12.35894044],\n",
       "       [-1.051717  ,  1.70166137],\n",
       "       [-3.17895416,  1.76110569],\n",
       "       [ 0.31710354,  4.89781236],\n",
       "       [ 2.06637202, -0.33199849],\n",
       "       [ 3.64913545, 14.55132336],\n",
       "       [ 6.67123841,  9.06131703],\n",
       "       [ 6.63363504, 10.97101315],\n",
       "       [ 2.05545284,  3.95073294],\n",
       "       [ 1.93082666,  4.92525365],\n",
       "       [-2.94413405,  3.45739854]])"
      ]
     },
     "execution_count": 2,
     "metadata": {},
     "output_type": "execute_result"
    }
   ],
   "source": [
    "# Dataset \n",
    "\n",
    "# Two centre points.\n",
    "c1 = np.array([1.0,  2.0])\n",
    "c2 = np.array([5.0, 12.0])\n",
    "\n",
    "# Create points randomly around the centre points.\n",
    "c1x = np.random.normal(c1[0], 2.0, 10)\n",
    "c1y = np.random.normal(c1[1], 2.0, 10)\n",
    "c1p = np.vstack([c1x, c1y]).T\n",
    "c2x = np.random.normal(c2[0], 2.0, 10)\n",
    "c2y = np.random.normal(c2[1], 2.0, 10)\n",
    "c2p = np.vstack([c2x, c2y]).T\n",
    "\n",
    "# Merge the two lists of values.\n",
    "X = np.concatenate([c1p, c2p])\n",
    "# Shuffle the points.\n",
    "np.random.shuffle(X)\n",
    "\n",
    "X"
   ]
  },
  {
   "cell_type": "code",
   "execution_count": 3,
   "metadata": {},
   "outputs": [
    {
     "data": {
      "image/png": "[encoded data removed]",
      "text/plain": [
       "<Figure size 432x288 with 1 Axes>"
      ]
     },
     "metadata": {
      "needs_background": "light"
     },
     "output_type": "display_data"
    }
   ],
   "source": [
    "# Plot the data set.\n",
    "plt.plot(X[:,0], X[:,1], 'x');"
   ]
  },
  {
   "cell_type": "code",
   "execution_count": 4,
   "metadata": {},
   "outputs": [],
   "source": [
    "# Perform kmeans fitting.\n",
    "kmeans = skcl.KMeans(n_clusters=2, random_state=0).fit(X)"
   ]
  },
  {
   "cell_type": "code",
   "execution_count": 5,
   "metadata": {},
   "outputs": [
    {
     "data": {
      "image/png": "[encoded data removed]",
      "text/plain": [
       "<Figure size 432x288 with 1 Axes>"
      ]
     },
     "metadata": {
      "needs_background": "light"
     },
     "output_type": "display_data"
    }
   ],
   "source": [
    "# Plot the data set.\n",
    "plt.plot(X[kmeans.labels_ == 0][:,0], X[kmeans.labels_ == 0][:,1], 'gx');\n",
    "plt.plot(X[kmeans.labels_ == 1][:,0], X[kmeans.labels_ == 1][:,1], 'rx');"
   ]
  },
  {
   "cell_type": "code",
   "execution_count": 6,
   "metadata": {},
   "outputs": [
    {
     "data": {
      "text/plain": [
       "array([[-1.        , -1.        ],\n",
       "       [-0.11111111,  0.77777778],\n",
       "       [ 0.77777778,  2.55555556],\n",
       "       [ 1.66666667,  4.33333333],\n",
       "       [ 2.55555556,  6.11111111],\n",
       "       [ 3.44444444,  7.88888889],\n",
       "       [ 4.33333333,  9.66666667],\n",
       "       [ 5.22222222, 11.44444444],\n",
       "       [ 6.11111111, 13.22222222],\n",
       "       [ 7.        , 15.        ]])"
      ]
     },
     "execution_count": 6,
     "metadata": {},
     "output_type": "execute_result"
    }
   ],
   "source": [
    "# Create new dummy points for classification.\n",
    "# newvals = np.array([[0, 0], [6, 10]])\n",
    "xvals = np.linspace(-1.0, 7.0, 10)\n",
    "yvals = np.linspace(-1.0, 15.0, 10)\n",
    "newvals = np.vstack([xvals, yvals]).T\n",
    "newvals"
   ]
  },
  {
   "cell_type": "code",
   "execution_count": 7,
   "metadata": {},
   "outputs": [
    {
     "data": {
      "text/plain": [
       "array([0, 0, 0, 0, 0, 1, 1, 1, 1, 1])"
      ]
     },
     "execution_count": 7,
     "metadata": {},
     "output_type": "execute_result"
    }
   ],
   "source": [
    "# Predict the cluster for two points.\n",
    "predictions = kmeans.predict(newvals)\n",
    "predictions"
   ]
  },
  {
   "cell_type": "code",
   "execution_count": 8,
   "metadata": {},
   "outputs": [
    {
     "data": {
      "image/png": "[encoded data removed]",
      "text/plain": [
       "<Figure size 432x288 with 1 Axes>"
      ]
     },
     "metadata": {
      "needs_background": "light"
     },
     "output_type": "display_data"
    }
   ],
   "source": [
    "# Plot the data set.\n",
    "plt.plot(X[kmeans.labels_ == 0][:,0], X[kmeans.labels_ == 0][:,1], 'gx');\n",
    "plt.plot(X[kmeans.labels_ == 1][:,0], X[kmeans.labels_ == 1][:,1], 'rx');\n",
    "plt.plot(newvals[predictions == 0][:,0], newvals[predictions == 0][:,1], 'go');\n",
    "plt.plot(newvals[predictions == 1][:,0], newvals[predictions == 1][:,1], 'ro');"
   ]
  },
  {
   "cell_type": "code",
   "execution_count": 9,
   "metadata": {},
   "outputs": [
    {
     "data": {
      "text/plain": [
       "array([[ 0.8002616 ,  2.51610623],\n",
       "       [ 5.57435975, 12.49893427]])"
      ]
     },
     "execution_count": 9,
     "metadata": {},
     "output_type": "execute_result"
    }
   ],
   "source": [
    "# The centres of clusters.\n",
    "center = kmeans.cluster_centers_\n",
    "center"
   ]
  },
  {
   "cell_type": "code",
   "execution_count": 10,
   "metadata": {},
   "outputs": [
    {
     "data": {
      "image/png": "[encoded data removed]",
      "text/plain": [
       "<Figure size 432x288 with 1 Axes>"
      ]
     },
     "metadata": {
      "needs_background": "light"
     },
     "output_type": "display_data"
    }
   ],
   "source": [
    "# Plot the data set.\n",
    "plt.plot(X[kmeans.labels_ == 0][:,0], X[kmeans.labels_ == 0][:,1], 'gx');\n",
    "plt.plot(X[kmeans.labels_ == 1][:,0], X[kmeans.labels_ == 1][:,1], 'rx');\n",
    "plt.plot(newvals[predictions == 0][:,0], newvals[predictions == 0][:,1], 'go');\n",
    "plt.plot(newvals[predictions == 1][:,0], newvals[predictions == 1][:,1], 'ro');\n",
    "plt.plot(center[:,0], center[:,1], 'k.');"
   ]
  },
  {
   "cell_type": "markdown",
   "metadata": {},
   "source": [
    "***"
   ]
  }
 ],
 "metadata": {
  "kernelspec": {
   "display_name": "Python 3",
   "language": "python",
   "name": "python3"
  },
  "language_info": {
   "codemirror_mode": {
    "name": "ipython",
    "version": 3
   },
   "file_extension": ".py",
   "mimetype": "text/x-python",
   "name": "python",
   "nbconvert_exporter": "python",
   "pygments_lexer": "ipython3",
   "version": "3.9.0"
  }
 },
 "nbformat": 4,
 "nbformat_minor": 4
}
